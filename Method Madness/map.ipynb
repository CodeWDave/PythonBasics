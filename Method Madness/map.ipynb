{
 "cells": [
  {
   "cell_type": "markdown",
   "metadata": {},
   "source": [
    "#### Method: Map\n",
    "\n",
    "Inputs: function to be applied to iterator, iterator\n",
    "\n",
    "Functionality: Preform function on every element in iterator.\n",
    "\n",
    "Return Type: A map object that must then be passed into an iterator.\n",
    "\n",
    "Note: Does not modify original iterator."
   ]
  },
  {
   "cell_type": "code",
   "execution_count": 1,
   "metadata": {},
   "outputs": [
    {
     "name": "stdout",
     "output_type": "stream",
     "text": [
      "Original iterable is unchanged: [1, 'Dave', [1, 2]]\n",
      "New iterable: ['1', 'Dave', '[1, 2]']\n"
     ]
    }
   ],
   "source": [
    "foo = [1, 'Dave', [1,2]]\n",
    "\n",
    "# Converts each value in \n",
    "# foo to a string using map function.\n",
    "boo = list(map(str, foo))\n",
    "print(f'Original iterable is unchanged: {foo}')\n",
    "print(f'New iterable: {boo}')"
   ]
  }
 ],
 "metadata": {
  "kernelspec": {
   "display_name": "Python 3.8.8 ('base')",
   "language": "python",
   "name": "python3"
  },
  "language_info": {
   "codemirror_mode": {
    "name": "ipython",
    "version": 3
   },
   "file_extension": ".py",
   "mimetype": "text/x-python",
   "name": "python",
   "nbconvert_exporter": "python",
   "pygments_lexer": "ipython3",
   "version": "3.8.8"
  },
  "orig_nbformat": 4,
  "vscode": {
   "interpreter": {
    "hash": "ca3d29f37a1a1c4f5e7a988c75b7db15a8dc84e630022593e41cd81ca2ea4c4a"
   }
  }
 },
 "nbformat": 4,
 "nbformat_minor": 2
}
