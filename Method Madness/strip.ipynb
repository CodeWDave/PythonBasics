{
 "cells": [
  {
   "cell_type": "markdown",
   "metadata": {},
   "source": [
    "#### Method: Strip\n",
    "\n",
    "Functionality: Remove leading or trailing characters from a string.\n",
    "\n",
    "Inputs: Character to be removed (Default is space ' ').\n",
    "\n",
    "Return type: String with characters removed."
   ]
  },
  {
   "cell_type": "code",
   "execution_count": 1,
   "metadata": {},
   "outputs": [
    {
     "name": "stdout",
     "output_type": "stream",
     "text": [
      "Follow for more!\n",
      "Leave a like\n"
     ]
    }
   ],
   "source": [
    "foo = \"       Follow for more!       \"\n",
    "goo = '!!!!!!!Leave a like!!!!!!!!!!!'\n",
    "\n",
    "print(foo.strip())\n",
    "print(goo.strip('!'))"
   ]
  }
 ],
 "metadata": {
  "kernelspec": {
   "display_name": "Python 3.8.8 ('base')",
   "language": "python",
   "name": "python3"
  },
  "language_info": {
   "codemirror_mode": {
    "name": "ipython",
    "version": 3
   },
   "file_extension": ".py",
   "mimetype": "text/x-python",
   "name": "python",
   "nbconvert_exporter": "python",
   "pygments_lexer": "ipython3",
   "version": "3.8.8"
  },
  "orig_nbformat": 4,
  "vscode": {
   "interpreter": {
    "hash": "ca3d29f37a1a1c4f5e7a988c75b7db15a8dc84e630022593e41cd81ca2ea4c4a"
   }
  }
 },
 "nbformat": 4,
 "nbformat_minor": 2
}
