{
 "cells": [
  {
   "cell_type": "markdown",
   "metadata": {},
   "source": [
    "#### Method: Find\n",
    "\n",
    "Inputs: String to parse, starting index (default 0), ending index (default end of string)\n",
    "\n",
    "Functionality: Locate the index of the searched for sequence of characters within a string.\n",
    "\n",
    "Return type: Integer representing index of the location of the searched for sequence of characters within the string.\n",
    "\n",
    "Note: If the string does not contain the search this function will return -1"
   ]
  },
  {
   "cell_type": "code",
   "execution_count": 1,
   "metadata": {},
   "outputs": [
    {
     "name": "stdout",
     "output_type": "stream",
     "text": [
      "12\n",
      "-1\n"
     ]
    }
   ],
   "source": [
    "      #0123456789012....\n",
    "foo = \"Follow CodeWDave for more!\"\n",
    "search_string = \"Dave\"\n",
    "print(foo.find(search_string))\n",
    "\n",
    "nonexisting_string = \"123\"\n",
    "print(foo.find(nonexisting_string))"
   ]
  }
 ],
 "metadata": {
  "kernelspec": {
   "display_name": "Python 3.8.8 ('base')",
   "language": "python",
   "name": "python3"
  },
  "language_info": {
   "codemirror_mode": {
    "name": "ipython",
    "version": 3
   },
   "file_extension": ".py",
   "mimetype": "text/x-python",
   "name": "python",
   "nbconvert_exporter": "python",
   "pygments_lexer": "ipython3",
   "version": "3.8.8"
  },
  "orig_nbformat": 4,
  "vscode": {
   "interpreter": {
    "hash": "ca3d29f37a1a1c4f5e7a988c75b7db15a8dc84e630022593e41cd81ca2ea4c4a"
   }
  }
 },
 "nbformat": 4,
 "nbformat_minor": 2
}
