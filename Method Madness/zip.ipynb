{
 "cells": [
  {
   "cell_type": "markdown",
   "metadata": {},
   "source": [
    "#### Method: Zip\n",
    "\n",
    "Inputs: Multiple iterators.\n",
    "\n",
    "Functionality: Used to pair multiple iterators.\n",
    "\n",
    "Return type: Zip object, which is an tuple of tuples. Must be passed to a new iterator.\n",
    "\n",
    "Note: If iterators have different lengths, the shortest length will be used and elements of longer iterators will be ignored."
   ]
  },
  {
   "cell_type": "code",
   "execution_count": 1,
   "metadata": {},
   "outputs": [
    {
     "name": "stdout",
     "output_type": "stream",
     "text": [
      "[(1, 'a', [1]), (2, 'b', [2]), (3, 'c', [3])]\n",
      "<class 'tuple'>\n"
     ]
    }
   ],
   "source": [
    "foo = [1,2,3]\n",
    "boo = ['a','b','c']\n",
    "goo = [[1],[2],[3],[4]]\n",
    "\n",
    "# Combine all lists into a list of touples\n",
    "zipped = list(zip(foo,boo,goo))\n",
    "print(zipped)\n",
    "print(type(zipped[0]))\n"
   ]
  }
 ],
 "metadata": {
  "kernelspec": {
   "display_name": "Python 3.8.8 ('base')",
   "language": "python",
   "name": "python3"
  },
  "language_info": {
   "codemirror_mode": {
    "name": "ipython",
    "version": 3
   },
   "file_extension": ".py",
   "mimetype": "text/x-python",
   "name": "python",
   "nbconvert_exporter": "python",
   "pygments_lexer": "ipython3",
   "version": "3.8.8"
  },
  "orig_nbformat": 4,
  "vscode": {
   "interpreter": {
    "hash": "ca3d29f37a1a1c4f5e7a988c75b7db15a8dc84e630022593e41cd81ca2ea4c4a"
   }
  }
 },
 "nbformat": 4,
 "nbformat_minor": 2
}
