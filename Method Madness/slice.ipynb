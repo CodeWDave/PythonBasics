{
 "cells": [
  {
   "cell_type": "markdown",
   "metadata": {},
   "source": [
    "#### Method: Slice\n",
    "\n",
    "Inputs: Start Index (Default 0), End Index, Step Size (Default 1)\n",
    "\n",
    "Functionality: Take a subsection of an iterator.\n",
    "\n",
    "Return Type: slice - Must then be used on iterator.\n",
    "\n",
    "Note: If only slicing one iterator format [start:end:step] is recomended."
   ]
  },
  {
   "cell_type": "code",
   "execution_count": 1,
   "metadata": {},
   "outputs": [
    {
     "name": "stdout",
     "output_type": "stream",
     "text": [
      "[3, 5]\n",
      "[7, 9]\n",
      "[3, 5]\n"
     ]
    }
   ],
   "source": [
    "# Takes the 2 and 5th index\n",
    "# Start at 2nd index, \n",
    "# increment by 2 until 5th index.\n",
    "slicer = slice(2,5,2)\n",
    "foo = [1,2,3,4,5,6,7]\n",
    "foo2 = [5,6,7,8,9]\n",
    "\n",
    "# Use slice method if slicing multiple iterables\n",
    "print(foo[slicer])\n",
    "print(foo2[slicer])\n",
    "\n",
    "# Use [] syntax if only slicing one iterables\n",
    "print(foo[2:5:2])"
   ]
  }
 ],
 "metadata": {
  "kernelspec": {
   "display_name": "Python 3.8.8 ('base')",
   "language": "python",
   "name": "python3"
  },
  "language_info": {
   "codemirror_mode": {
    "name": "ipython",
    "version": 3
   },
   "file_extension": ".py",
   "mimetype": "text/x-python",
   "name": "python",
   "nbconvert_exporter": "python",
   "pygments_lexer": "ipython3",
   "version": "3.8.8"
  },
  "orig_nbformat": 4,
  "vscode": {
   "interpreter": {
    "hash": "ca3d29f37a1a1c4f5e7a988c75b7db15a8dc84e630022593e41cd81ca2ea4c4a"
   }
  }
 },
 "nbformat": 4,
 "nbformat_minor": 2
}
