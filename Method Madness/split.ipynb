{
 "cells": [
  {
   "cell_type": "markdown",
   "metadata": {},
   "source": [
    "#### Method: Split\n",
    "\n",
    "Inputs: Split string (Default: ' '), Number of splits (Default: -1 - Means as many as possible)\n",
    "\n",
    "Functionality: Splits string on provided string split.\n",
    "\n",
    "Return type: List of split string\n",
    "\n",
    "Note: String being used to split is excluded from returned list."
   ]
  },
  {
   "cell_type": "code",
   "execution_count": 1,
   "metadata": {},
   "outputs": [
    {
     "name": "stdout",
     "output_type": "stream",
     "text": [
      "['Follow', 'For', 'More!']\n",
      "['Follow', 'Code', 'W', 'Dave-For-More!']\n"
     ]
    }
   ],
   "source": [
    "foo = \"Follow For More!\"\n",
    "split_string_foo = foo.split()\n",
    "print(split_string_foo)\n",
    "\n",
    "zoo = \"Follow-Code-W-Dave-For-More!\"\n",
    "split_string_zoo = zoo.split('-',3)\n",
    "print(split_string_zoo)"
   ]
  }
 ],
 "metadata": {
  "kernelspec": {
   "display_name": "Python 3.8.8 ('base')",
   "language": "python",
   "name": "python3"
  },
  "language_info": {
   "codemirror_mode": {
    "name": "ipython",
    "version": 3
   },
   "file_extension": ".py",
   "mimetype": "text/x-python",
   "name": "python",
   "nbconvert_exporter": "python",
   "pygments_lexer": "ipython3",
   "version": "3.8.8"
  },
  "orig_nbformat": 4,
  "vscode": {
   "interpreter": {
    "hash": "ca3d29f37a1a1c4f5e7a988c75b7db15a8dc84e630022593e41cd81ca2ea4c4a"
   }
  }
 },
 "nbformat": 4,
 "nbformat_minor": 2
}
